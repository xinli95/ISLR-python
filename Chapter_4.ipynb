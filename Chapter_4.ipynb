{
  "nbformat": 4,
  "nbformat_minor": 0,
  "metadata": {
    "kernelspec": {
      "display_name": "Python 3",
      "language": "python",
      "name": "python3"
    },
    "language_info": {
      "codemirror_mode": {
        "name": "ipython",
        "version": 3
      },
      "file_extension": ".py",
      "mimetype": "text/x-python",
      "name": "python",
      "nbconvert_exporter": "python",
      "pygments_lexer": "ipython3",
      "version": "3.6.4"
    },
    "colab": {
      "name": "Chapter 4.ipynb",
      "provenance": [],
      "collapsed_sections": [
        "C3YxlW7xN1cJ",
        "npOw8XbLN1cO"
      ],
      "toc_visible": true,
      "include_colab_link": true
    }
  },
  "cells": [
    {
      "cell_type": "markdown",
      "metadata": {
        "id": "view-in-github",
        "colab_type": "text"
      },
      "source": [
        "<a href=\"https://colab.research.google.com/github/xinli95/ISLR-python/blob/master/Chapter_4.ipynb\" target=\"_parent\"><img src=\"https://colab.research.google.com/assets/colab-badge.svg\" alt=\"Open In Colab\"/></a>"
      ]
    },
    {
      "cell_type": "markdown",
      "metadata": {
        "id": "oSZjn7VWN1ar"
      },
      "source": [
        "# Chapter 4 - Classification"
      ]
    },
    {
      "cell_type": "markdown",
      "metadata": {
        "id": "9Ubb4ch6N1ar"
      },
      "source": [
        "- [Load dataset](#Load-dataset)\n",
        "- [The Default data set](#Figure-4.1---Default-data-set)\n",
        "- [4.3 Logistic Regression](#4.3-Logistic-Regression)\n",
        "- [4.4 Linear Discriminant Analysis](#4.4-Linear-Discriminant-Analysis)\n",
        "- [Lab: 4.6.3 Linear Discriminant Analysis](#4.6.3-Linear-Discriminant-Analysis)\n",
        "- [Lab: 4.6.4 Quadratic Discriminant Analysis](#4.6.4-Quadratic-Discriminant-Analysis)\n",
        "- [Lab: 4.6.5 K-Nearest Neighbors](#4.6.5-K-Nearest-Neighbors)\n",
        "- [Lab: 4.6.6 An Application to Caravan Insurance Data](#4.6.6-An-Application-to-Caravan-Insurance-Data)"
      ]
    },
    {
      "cell_type": "code",
      "metadata": {
        "id": "x8z3iSy3N1as",
        "outputId": "9b2c9903-2dea-4636-904d-070beba3157d",
        "colab": {
          "base_uri": "https://localhost:8080/"
        }
      },
      "source": [
        "# %load ../standard_import.txt\n",
        "import pandas as pd\n",
        "import numpy as np\n",
        "import matplotlib as mpl\n",
        "import matplotlib.pyplot as plt\n",
        "import seaborn as sns\n",
        "\n",
        "import sklearn.linear_model as skl_lm\n",
        "from sklearn.discriminant_analysis import LinearDiscriminantAnalysis\n",
        "from sklearn.discriminant_analysis import QuadraticDiscriminantAnalysis\n",
        "from sklearn.metrics import confusion_matrix, classification_report, precision_score\n",
        "from sklearn import preprocessing\n",
        "from sklearn import neighbors\n",
        "\n",
        "import statsmodels.api as sm\n",
        "import statsmodels.formula.api as smf\n",
        "\n",
        "%matplotlib inline\n",
        "plt.style.use('seaborn-white')"
      ],
      "execution_count": 1,
      "outputs": [
        {
          "output_type": "stream",
          "text": [
            "/usr/local/lib/python3.6/dist-packages/statsmodels/tools/_testing.py:19: FutureWarning: pandas.util.testing is deprecated. Use the functions in the public API at pandas.testing instead.\n",
            "  import pandas.util.testing as tm\n"
          ],
          "name": "stderr"
        }
      ]
    },
    {
      "cell_type": "markdown",
      "metadata": {
        "id": "-6_NIxy_N1av"
      },
      "source": [
        "### Load dataset"
      ]
    },
    {
      "cell_type": "code",
      "metadata": {
        "id": "KXfsA9OROpCW",
        "outputId": "94f84d5c-13b0-402b-a5eb-06f1b24b6cea",
        "colab": {
          "base_uri": "https://localhost:8080/"
        }
      },
      "source": [
        "!git clone https://github.com/JWarmenhoven/ISLR-python.git\n",
        "root_path = '/content/ISLR-python/Notebooks/Data/'"
      ],
      "execution_count": 2,
      "outputs": [
        {
          "output_type": "stream",
          "text": [
            "Cloning into 'ISLR-python'...\n",
            "remote: Enumerating objects: 721, done.\u001b[K\n",
            "remote: Total 721 (delta 0), reused 0 (delta 0), pack-reused 721\u001b[K\n",
            "Receiving objects: 100% (721/721), 21.36 MiB | 27.61 MiB/s, done.\n",
            "Resolving deltas: 100% (328/328), done.\n"
          ],
          "name": "stdout"
        }
      ]
    },
    {
      "cell_type": "code",
      "metadata": {
        "id": "pPniEk_7N1aw",
        "outputId": "7680d1a7-0cda-4b54-8727-20121ff67c4e",
        "colab": {
          "base_uri": "https://localhost:8080/",
          "height": 142
        }
      },
      "source": [
        "# In R, I exported the dataset from package 'ISLR' to an Excel file\n",
        "df = pd.read_excel(root_path + 'Default.xlsx')\n",
        "\n",
        "# Note: factorize() returns two objects: a label array and an array with the unique values.\n",
        "# We are only interested in the first object. \n",
        "df['default2'] = df.default.factorize()[0]\n",
        "df['student2'] = df.student.factorize()[0]\n",
        "df.head(3)"
      ],
      "execution_count": 3,
      "outputs": [
        {
          "output_type": "execute_result",
          "data": {
            "text/html": [
              "<div>\n",
              "<style scoped>\n",
              "    .dataframe tbody tr th:only-of-type {\n",
              "        vertical-align: middle;\n",
              "    }\n",
              "\n",
              "    .dataframe tbody tr th {\n",
              "        vertical-align: top;\n",
              "    }\n",
              "\n",
              "    .dataframe thead th {\n",
              "        text-align: right;\n",
              "    }\n",
              "</style>\n",
              "<table border=\"1\" class=\"dataframe\">\n",
              "  <thead>\n",
              "    <tr style=\"text-align: right;\">\n",
              "      <th></th>\n",
              "      <th>Unnamed: 0</th>\n",
              "      <th>default</th>\n",
              "      <th>student</th>\n",
              "      <th>balance</th>\n",
              "      <th>income</th>\n",
              "      <th>default2</th>\n",
              "      <th>student2</th>\n",
              "    </tr>\n",
              "  </thead>\n",
              "  <tbody>\n",
              "    <tr>\n",
              "      <th>0</th>\n",
              "      <td>1</td>\n",
              "      <td>No</td>\n",
              "      <td>No</td>\n",
              "      <td>729.526495</td>\n",
              "      <td>44361.625074</td>\n",
              "      <td>0</td>\n",
              "      <td>0</td>\n",
              "    </tr>\n",
              "    <tr>\n",
              "      <th>1</th>\n",
              "      <td>2</td>\n",
              "      <td>No</td>\n",
              "      <td>Yes</td>\n",
              "      <td>817.180407</td>\n",
              "      <td>12106.134700</td>\n",
              "      <td>0</td>\n",
              "      <td>1</td>\n",
              "    </tr>\n",
              "    <tr>\n",
              "      <th>2</th>\n",
              "      <td>3</td>\n",
              "      <td>No</td>\n",
              "      <td>No</td>\n",
              "      <td>1073.549164</td>\n",
              "      <td>31767.138947</td>\n",
              "      <td>0</td>\n",
              "      <td>0</td>\n",
              "    </tr>\n",
              "  </tbody>\n",
              "</table>\n",
              "</div>"
            ],
            "text/plain": [
              "   Unnamed: 0 default student      balance        income  default2  student2\n",
              "0           1      No      No   729.526495  44361.625074         0         0\n",
              "1           2      No     Yes   817.180407  12106.134700         0         1\n",
              "2           3      No      No  1073.549164  31767.138947         0         0"
            ]
          },
          "metadata": {
            "tags": []
          },
          "execution_count": 3
        }
      ]
    },
    {
      "cell_type": "markdown",
      "metadata": {
        "id": "4I2kBoKMN1az"
      },
      "source": [
        "###  Figure 4.1 - Default data set"
      ]
    },
    {
      "cell_type": "code",
      "metadata": {
        "id": "ms-chRJHN1a0",
        "outputId": "3465c546-aeb6-423e-da90-4faed82df37c",
        "colab": {
          "base_uri": "https://localhost:8080/",
          "height": 457
        }
      },
      "source": [
        "fig = plt.figure(figsize=(12,5))\n",
        "gs = mpl.gridspec.GridSpec(1, 4)\n",
        "ax1 = plt.subplot(gs[0,:-2])\n",
        "ax2 = plt.subplot(gs[0,-2])\n",
        "ax3 = plt.subplot(gs[0,-1])\n",
        "\n",
        "# Take a fraction of the samples where target value (default) is 'no'\n",
        "df_no = df[df.default2 == 0].sample(frac=0.15)\n",
        "# Take all samples  where target value is 'yes'\n",
        "df_yes = df[df.default2 == 1]\n",
        "df_ = df_no.append(df_yes)\n",
        "\n",
        "ax1.scatter(df_[df_.default == 'Yes'].balance, df_[df_.default == 'Yes'].income, s=40, c='orange', marker='+',\n",
        "            linewidths=1)\n",
        "ax1.scatter(df_[df_.default == 'No'].balance, df_[df_.default == 'No'].income, s=40, marker='o', linewidths='1',\n",
        "            edgecolors='lightblue', facecolors='white', alpha=.6)\n",
        "\n",
        "ax1.set_ylim(ymin=0)\n",
        "ax1.set_ylabel('Income')\n",
        "ax1.set_xlim(xmin=-100)\n",
        "ax1.set_xlabel('Balance')\n",
        "\n",
        "c_palette = {'No':'lightblue', 'Yes':'orange'}\n",
        "sns.boxplot('default', 'balance', data=df, orient='v', ax=ax2, palette=c_palette)\n",
        "sns.boxplot('default', 'income', data=df, orient='v', ax=ax3, palette=c_palette)\n",
        "gs.tight_layout(plt.gcf())"
      ],
      "execution_count": 4,
      "outputs": [
        {
          "output_type": "stream",
          "text": [
            "/usr/local/lib/python3.6/dist-packages/seaborn/_decorators.py:43: FutureWarning: Pass the following variables as keyword args: x, y. From version 0.12, the only valid positional argument will be `data`, and passing other arguments without an explicit keyword will result in an error or misinterpretation.\n",
            "  FutureWarning\n",
            "/usr/local/lib/python3.6/dist-packages/seaborn/_decorators.py:43: FutureWarning: Pass the following variables as keyword args: x, y. From version 0.12, the only valid positional argument will be `data`, and passing other arguments without an explicit keyword will result in an error or misinterpretation.\n",
            "  FutureWarning\n"
          ],
          "name": "stderr"
        },
        {
          "output_type": "display_data",
          "data": {
            "image/png": "[encoded data removed]",
            "text/plain": [
              "<Figure size 864x360 with 3 Axes>"
            ]
          },
          "metadata": {
            "tags": [],
            "needs_background": "light"
          }
        }
      ]
    },
    {
      "cell_type": "markdown",
      "metadata": {
        "id": "NlmjWHGIN1a3"
      },
      "source": [
        "## 4.3 Logistic Regression\n",
        "### Figure 4.2"
      ]
    },
    {
      "cell_type": "code",
      "metadata": {
        "id": "7BgLRCoeN1a4",
        "outputId": "3f76125b-90bf-40b5-b275-353f8c58a962",
        "colab": {
          "base_uri": "https://localhost:8080/",
          "height": 384
        }
      },
      "source": [
        "X_train = df.balance.values.reshape(-1,1) \n",
        "y = df.default2\n",
        "\n",
        "# Create array of test data. Calculate the classification probability\n",
        "# and predicted classification.\n",
        "X_test = np.arange(df.balance.min(), df.balance.max()).reshape(-1,1)\n",
        "\n",
        "clf = skl_lm.LogisticRegression(solver='newton-cg')\n",
        "clf.fit(X_train,y)\n",
        "prob = clf.predict_proba(X_test)\n",
        "\n",
        "fig, (ax1, ax2) = plt.subplots(1,2, figsize=(12,5))\n",
        "# Left plot\n",
        "sns.regplot(df.balance, df.default2, order=1, ci=None,\n",
        "            scatter_kws={'color':'orange'},\n",
        "            line_kws={'color':'lightblue', 'lw':2}, ax=ax1)\n",
        "# Right plot\n",
        "ax2.scatter(X_train, y, color='orange')\n",
        "ax2.plot(X_test, prob[:,1], color='lightblue')\n",
        "\n",
        "for ax in fig.axes:\n",
        "    ax.hlines(1, xmin=ax.xaxis.get_data_interval()[0],\n",
        "              xmax=ax.xaxis.get_data_interval()[1], linestyles='dashed', lw=1)\n",
        "    ax.hlines(0, xmin=ax.xaxis.get_data_interval()[0],\n",
        "              xmax=ax.xaxis.get_data_interval()[1], linestyles='dashed', lw=1)\n",
        "    ax.set_ylabel('Probability of default')\n",
        "    ax.set_xlabel('Balance')\n",
        "    ax.set_yticks([0, 0.25, 0.5, 0.75, 1.])\n",
        "    ax.set_xlim(xmin=-100)"
      ],
      "execution_count": 5,
      "outputs": [
        {
          "output_type": "stream",
          "text": [
            "/usr/local/lib/python3.6/dist-packages/seaborn/_decorators.py:43: FutureWarning: Pass the following variables as keyword args: x, y. From version 0.12, the only valid positional argument will be `data`, and passing other arguments without an explicit keyword will result in an error or misinterpretation.\n",
            "  FutureWarning\n"
          ],
          "name": "stderr"
        },
        {
          "output_type": "display_data",
          "data": {
            "image/png": "[encoded data removed]",
            "text/plain": [
              "<Figure size 864x360 with 2 Axes>"
            ]
          },
          "metadata": {
            "tags": [],
            "needs_background": "light"
          }
        }
      ]
    },
    {
      "cell_type": "markdown",
      "metadata": {
        "id": "oQflKvQxN1a7"
      },
      "source": [
        "### Table 4.1"
      ]
    },
    {
      "cell_type": "code",
      "metadata": {
        "id": "rRrmqOXkN1a7"
      },
      "source": [
        "y = df.default2"
      ],
      "execution_count": 6,
      "outputs": []
    },
    {
      "cell_type": "markdown",
      "metadata": {
        "id": "Bl-jWyDeN1a-"
      },
      "source": [
        "#####  scikit-learn"
      ]
    },
    {
      "cell_type": "code",
      "metadata": {
        "id": "333Unp55N1a-",
        "outputId": "cfca5788-7e93-4361-c6f3-d3014a2417b9",
        "colab": {
          "base_uri": "https://localhost:8080/"
        }
      },
      "source": [
        "# Using newton-cg solver, the coefficients are equal/closest to the ones in the book. \n",
        "# I do not know the details on the differences between the solvers.\n",
        "clf = skl_lm.LogisticRegression(solver='newton-cg')\n",
        "X_train = df.balance.values.reshape(-1,1)\n",
        "clf.fit(X_train,y)\n",
        "print(clf)\n",
        "print('classes: ',clf.classes_)\n",
        "print('coefficients: ',clf.coef_)\n",
        "print('intercept :', clf.intercept_)"
      ],
      "execution_count": 7,
      "outputs": [
        {
          "output_type": "stream",
          "text": [
            "LogisticRegression(C=1.0, class_weight=None, dual=False, fit_intercept=True,\n",
            "                   intercept_scaling=1, l1_ratio=None, max_iter=100,\n",
            "                   multi_class='auto', n_jobs=None, penalty='l2',\n",
            "                   random_state=None, solver='newton-cg', tol=0.0001, verbose=0,\n",
            "                   warm_start=False)\n",
            "classes:  [0 1]\n",
            "coefficients:  [[0.00549892]]\n",
            "intercept : [-10.65132784]\n"
          ],
          "name": "stdout"
        }
      ]
    },
    {
      "cell_type": "markdown",
      "metadata": {
        "id": "CYSQEHMzN1bB"
      },
      "source": [
        "##### statsmodels"
      ]
    },
    {
      "cell_type": "code",
      "metadata": {
        "id": "7r5wFMpcN1bB",
        "outputId": "f5300759-d603-47e1-f691-425587eb1024",
        "colab": {
          "base_uri": "https://localhost:8080/",
          "height": 162
        }
      },
      "source": [
        "X_train = sm.add_constant(df.balance)  ## Add a column of ones to an array\n",
        "est = sm.Logit(y.ravel(), X_train).fit()\n",
        "est.summary2().tables[1]"
      ],
      "execution_count": 10,
      "outputs": [
        {
          "output_type": "stream",
          "text": [
            "Optimization terminated successfully.\n",
            "         Current function value: 0.079823\n",
            "         Iterations 10\n"
          ],
          "name": "stdout"
        },
        {
          "output_type": "execute_result",
          "data": {
            "text/html": [
              "<div>\n",
              "<style scoped>\n",
              "    .dataframe tbody tr th:only-of-type {\n",
              "        vertical-align: middle;\n",
              "    }\n",
              "\n",
              "    .dataframe tbody tr th {\n",
              "        vertical-align: top;\n",
              "    }\n",
              "\n",
              "    .dataframe thead th {\n",
              "        text-align: right;\n",
              "    }\n",
              "</style>\n",
              "<table border=\"1\" class=\"dataframe\">\n",
              "  <thead>\n",
              "    <tr style=\"text-align: right;\">\n",
              "      <th></th>\n",
              "      <th>Coef.</th>\n",
              "      <th>Std.Err.</th>\n",
              "      <th>z</th>\n",
              "      <th>P&gt;|z|</th>\n",
              "      <th>[0.025</th>\n",
              "      <th>0.975]</th>\n",
              "    </tr>\n",
              "  </thead>\n",
              "  <tbody>\n",
              "    <tr>\n",
              "      <th>const</th>\n",
              "      <td>-10.651331</td>\n",
              "      <td>0.361169</td>\n",
              "      <td>-29.491287</td>\n",
              "      <td>3.723665e-191</td>\n",
              "      <td>-11.359208</td>\n",
              "      <td>-9.943453</td>\n",
              "    </tr>\n",
              "    <tr>\n",
              "      <th>balance</th>\n",
              "      <td>0.005499</td>\n",
              "      <td>0.000220</td>\n",
              "      <td>24.952404</td>\n",
              "      <td>2.010855e-137</td>\n",
              "      <td>0.005067</td>\n",
              "      <td>0.005931</td>\n",
              "    </tr>\n",
              "  </tbody>\n",
              "</table>\n",
              "</div>"
            ],
            "text/plain": [
              "             Coef.  Std.Err.          z          P>|z|     [0.025    0.975]\n",
              "const   -10.651331  0.361169 -29.491287  3.723665e-191 -11.359208 -9.943453\n",
              "balance   0.005499  0.000220  24.952404  2.010855e-137   0.005067  0.005931"
            ]
          },
          "metadata": {
            "tags": []
          },
          "execution_count": 10
        }
      ]
    },
    {
      "cell_type": "markdown",
      "metadata": {
        "id": "tgef1cxkN1bF"
      },
      "source": [
        "###  Table 4.2"
      ]
    },
    {
      "cell_type": "code",
      "metadata": {
        "id": "wfiI0_TtN1bF",
        "outputId": "0b78ef6b-7b15-4341-b308-1307266738c0",
        "colab": {
          "base_uri": "https://localhost:8080/",
          "height": 162
        }
      },
      "source": [
        "X_train = sm.add_constant(df.student2)\n",
        "y = df.default2\n",
        "\n",
        "est = sm.Logit(y, X_train).fit()\n",
        "est.summary2().tables[1]"
      ],
      "execution_count": 13,
      "outputs": [
        {
          "output_type": "stream",
          "text": [
            "Optimization terminated successfully.\n",
            "         Current function value: 0.145434\n",
            "         Iterations 7\n"
          ],
          "name": "stdout"
        },
        {
          "output_type": "execute_result",
          "data": {
            "text/html": [
              "<div>\n",
              "<style scoped>\n",
              "    .dataframe tbody tr th:only-of-type {\n",
              "        vertical-align: middle;\n",
              "    }\n",
              "\n",
              "    .dataframe tbody tr th {\n",
              "        vertical-align: top;\n",
              "    }\n",
              "\n",
              "    .dataframe thead th {\n",
              "        text-align: right;\n",
              "    }\n",
              "</style>\n",
              "<table border=\"1\" class=\"dataframe\">\n",
              "  <thead>\n",
              "    <tr style=\"text-align: right;\">\n",
              "      <th></th>\n",
              "      <th>Coef.</th>\n",
              "      <th>Std.Err.</th>\n",
              "      <th>z</th>\n",
              "      <th>P&gt;|z|</th>\n",
              "      <th>[0.025</th>\n",
              "      <th>0.975]</th>\n",
              "    </tr>\n",
              "  </thead>\n",
              "  <tbody>\n",
              "    <tr>\n",
              "      <th>const</th>\n",
              "      <td>-3.504128</td>\n",
              "      <td>0.070713</td>\n",
              "      <td>-49.554094</td>\n",
              "      <td>0.000000</td>\n",
              "      <td>-3.642723</td>\n",
              "      <td>-3.365532</td>\n",
              "    </tr>\n",
              "    <tr>\n",
              "      <th>student2</th>\n",
              "      <td>0.404887</td>\n",
              "      <td>0.115019</td>\n",
              "      <td>3.520177</td>\n",
              "      <td>0.000431</td>\n",
              "      <td>0.179454</td>\n",
              "      <td>0.630320</td>\n",
              "    </tr>\n",
              "  </tbody>\n",
              "</table>\n",
              "</div>"
            ],
            "text/plain": [
              "             Coef.  Std.Err.          z     P>|z|    [0.025    0.975]\n",
              "const    -3.504128  0.070713 -49.554094  0.000000 -3.642723 -3.365532\n",
              "student2  0.404887  0.115019   3.520177  0.000431  0.179454  0.630320"
            ]
          },
          "metadata": {
            "tags": []
          },
          "execution_count": 13
        }
      ]
    },
    {
      "cell_type": "markdown",
      "metadata": {
        "id": "ZE2zMS2QN1bH"
      },
      "source": [
        "###  Table 4.3 - Multiple Logistic Regression"
      ]
    },
    {
      "cell_type": "code",
      "metadata": {
        "id": "HTbnD0yYN1bI",
        "outputId": "7567184d-8959-4339-8a48-82218e7c0849",
        "colab": {
          "base_uri": "https://localhost:8080/",
          "height": 224
        }
      },
      "source": [
        "X_train = sm.add_constant(df[['balance', 'income', 'student2']])\n",
        "est = sm.Logit(y, X_train).fit()\n",
        "est.summary2().tables[1]"
      ],
      "execution_count": 14,
      "outputs": [
        {
          "output_type": "stream",
          "text": [
            "Optimization terminated successfully.\n",
            "         Current function value: 0.078577\n",
            "         Iterations 10\n"
          ],
          "name": "stdout"
        },
        {
          "output_type": "execute_result",
          "data": {
            "text/html": [
              "<div>\n",
              "<style scoped>\n",
              "    .dataframe tbody tr th:only-of-type {\n",
              "        vertical-align: middle;\n",
              "    }\n",
              "\n",
              "    .dataframe tbody tr th {\n",
              "        vertical-align: top;\n",
              "    }\n",
              "\n",
              "    .dataframe thead th {\n",
              "        text-align: right;\n",
              "    }\n",
              "</style>\n",
              "<table border=\"1\" class=\"dataframe\">\n",
              "  <thead>\n",
              "    <tr style=\"text-align: right;\">\n",
              "      <th></th>\n",
              "      <th>Coef.</th>\n",
              "      <th>Std.Err.</th>\n",
              "      <th>z</th>\n",
              "      <th>P&gt;|z|</th>\n",
              "      <th>[0.025</th>\n",
              "      <th>0.975]</th>\n",
              "    </tr>\n",
              "  </thead>\n",
              "  <tbody>\n",
              "    <tr>\n",
              "      <th>const</th>\n",
              "      <td>-10.869045</td>\n",
              "      <td>0.492273</td>\n",
              "      <td>-22.079320</td>\n",
              "      <td>4.995499e-108</td>\n",
              "      <td>-11.833882</td>\n",
              "      <td>-9.904209</td>\n",
              "    </tr>\n",
              "    <tr>\n",
              "      <th>balance</th>\n",
              "      <td>0.005737</td>\n",
              "      <td>0.000232</td>\n",
              "      <td>24.736506</td>\n",
              "      <td>4.331521e-135</td>\n",
              "      <td>0.005282</td>\n",
              "      <td>0.006191</td>\n",
              "    </tr>\n",
              "    <tr>\n",
              "      <th>income</th>\n",
              "      <td>0.000003</td>\n",
              "      <td>0.000008</td>\n",
              "      <td>0.369808</td>\n",
              "      <td>7.115254e-01</td>\n",
              "      <td>-0.000013</td>\n",
              "      <td>0.000019</td>\n",
              "    </tr>\n",
              "    <tr>\n",
              "      <th>student2</th>\n",
              "      <td>-0.646776</td>\n",
              "      <td>0.236257</td>\n",
              "      <td>-2.737595</td>\n",
              "      <td>6.189022e-03</td>\n",
              "      <td>-1.109831</td>\n",
              "      <td>-0.183721</td>\n",
              "    </tr>\n",
              "  </tbody>\n",
              "</table>\n",
              "</div>"
            ],
            "text/plain": [
              "              Coef.  Std.Err.          z          P>|z|     [0.025    0.975]\n",
              "const    -10.869045  0.492273 -22.079320  4.995499e-108 -11.833882 -9.904209\n",
              "balance    0.005737  0.000232  24.736506  4.331521e-135   0.005282  0.006191\n",
              "income     0.000003  0.000008   0.369808   7.115254e-01  -0.000013  0.000019\n",
              "student2  -0.646776  0.236257  -2.737595   6.189022e-03  -1.109831 -0.183721"
            ]
          },
          "metadata": {
            "tags": []
          },
          "execution_count": 14
        }
      ]
    },
    {
      "cell_type": "markdown",
      "metadata": {
        "id": "zZ-DSdu2N1bL"
      },
      "source": [
        "### Figure 4.3 - Confounding"
      ]
    },
    {
      "cell_type": "code",
      "metadata": {
        "id": "9qoLdTnYN1bM"
      },
      "source": [
        "# balance and default vectors for students\n",
        "X_train = df[df.student == 'Yes'].balance.values.reshape(df[df.student == 'Yes'].balance.size,1) \n",
        "y = df[df.student == 'Yes'].default2\n",
        "\n",
        "# balance and default vectors for non-students\n",
        "X_train2 = df[df.student == 'No'].balance.values.reshape(df[df.student == 'No'].balance.size,1) \n",
        "y2 = df[df.student == 'No'].default2\n",
        "\n",
        "# Vector with balance values for plotting\n",
        "X_test = np.arange(df.balance.min(), df.balance.max()).reshape(-1,1)\n",
        "\n",
        "clf = skl_lm.LogisticRegression(solver='newton-cg')\n",
        "clf2 = skl_lm.LogisticRegression(solver='newton-cg')\n",
        "\n",
        "clf.fit(X_train,y)\n",
        "clf2.fit(X_train2,y2)\n",
        "\n",
        "prob = clf.predict_proba(X_test)\n",
        "prob2 = clf2.predict_proba(X_test)"
      ],
      "execution_count": 19,
      "outputs": []
    },
    {
      "cell_type": "code",
      "metadata": {
        "id": "q1h8HuaeN1bP",
        "outputId": "341412af-ae6f-4ca8-a68f-c11d115fb72b",
        "colab": {
          "base_uri": "https://localhost:8080/",
          "height": 142
        }
      },
      "source": [
        "df.groupby(['student','default']).size().unstack('default')"
      ],
      "execution_count": 20,
      "outputs": [
        {
          "output_type": "execute_result",
          "data": {
            "text/html": [
              "<div>\n",
              "<style scoped>\n",
              "    .dataframe tbody tr th:only-of-type {\n",
              "        vertical-align: middle;\n",
              "    }\n",
              "\n",
              "    .dataframe tbody tr th {\n",
              "        vertical-align: top;\n",
              "    }\n",
              "\n",
              "    .dataframe thead th {\n",
              "        text-align: right;\n",
              "    }\n",
              "</style>\n",
              "<table border=\"1\" class=\"dataframe\">\n",
              "  <thead>\n",
              "    <tr style=\"text-align: right;\">\n",
              "      <th>default</th>\n",
              "      <th>No</th>\n",
              "      <th>Yes</th>\n",
              "    </tr>\n",
              "    <tr>\n",
              "      <th>student</th>\n",
              "      <th></th>\n",
              "      <th></th>\n",
              "    </tr>\n",
              "  </thead>\n",
              "  <tbody>\n",
              "    <tr>\n",
              "      <th>No</th>\n",
              "      <td>6850</td>\n",
              "      <td>206</td>\n",
              "    </tr>\n",
              "    <tr>\n",
              "      <th>Yes</th>\n",
              "      <td>2817</td>\n",
              "      <td>127</td>\n",
              "    </tr>\n",
              "  </tbody>\n",
              "</table>\n",
              "</div>"
            ],
            "text/plain": [
              "default    No  Yes\n",
              "student           \n",
              "No       6850  206\n",
              "Yes      2817  127"
            ]
          },
          "metadata": {
            "tags": []
          },
          "execution_count": 20
        }
      ]
    },
    {
      "cell_type": "code",
      "metadata": {
        "id": "IqYxmvSbN1bR",
        "outputId": "f5cd9f4a-3866-4883-9860-b6c0ef3534f3"
      },
      "source": [
        "# creating plot\n",
        "fig, (ax1, ax2) = plt.subplots(1,2, figsize=(12,5))\n",
        "\n",
        "# Left plot\n",
        "ax1.plot(X_test, pd.DataFrame(prob)[1], color='orange', label='Student')\n",
        "ax1.plot(X_test, pd.DataFrame(prob2)[1], color='lightblue', label='Non-student')\n",
        "ax1.hlines(127/2817, colors='orange', label='Overall Student',\n",
        "           xmin=ax1.xaxis.get_data_interval()[0],\n",
        "           xmax=ax1.xaxis.get_data_interval()[1], linestyles='dashed')\n",
        "ax1.hlines(206/6850, colors='lightblue', label='Overall Non-Student',\n",
        "           xmin=ax1.xaxis.get_data_interval()[0],\n",
        "           xmax=ax1.xaxis.get_data_interval()[1], linestyles='dashed')\n",
        "ax1.set_ylabel('Default Rate')\n",
        "ax1.set_xlabel('Credit Card Balance')\n",
        "ax1.set_yticks([0, 0.2, 0.4, 0.6, 0.8, 1.])\n",
        "ax1.set_xlim(450,2500)\n",
        "ax1.legend(loc=2)\n",
        "\n",
        "# Right plot\n",
        "sns.boxplot('student', 'balance', data=df, orient='v', ax=ax2,  palette=c_palette);"
      ],
      "execution_count": null,
      "outputs": [
        {
          "output_type": "display_data",
          "data": {
            "image/png": "[encoded data removed]",
            "text/plain": [
              "<matplotlib.figure.Figure at 0x10f4372b0>"
            ]
          },
          "metadata": {
            "tags": []
          }
        }
      ]
    },
    {
      "cell_type": "markdown",
      "metadata": {
        "id": "Wct4eeg9N1bT"
      },
      "source": [
        "## 4.4 Linear Discriminant Analysis\n",
        "### Table 4.4 \n"
      ]
    },
    {
      "cell_type": "code",
      "metadata": {
        "id": "1aiARboVN1bU",
        "outputId": "fb883962-844f-4a25-8a52-8be2dc032de0",
        "colab": {
          "base_uri": "https://localhost:8080/",
          "height": 142
        }
      },
      "source": [
        "X = df[['balance', 'income', 'student2']].to_numpy()\n",
        "y = df.default2.to_numpy()\n",
        "\n",
        "lda = LinearDiscriminantAnalysis(solver='svd')\n",
        "y_pred = lda.fit(X, y).predict(X)\n",
        "\n",
        "df_ = pd.DataFrame({'True default status': y,\n",
        "                    'Predicted default status': y_pred})\n",
        "df_.replace(to_replace={0:'No', 1:'Yes'}, inplace=True)\n",
        "\n",
        "df_.groupby(['Predicted default status','True default status']).size().unstack('True default status')"
      ],
      "execution_count": 21,
      "outputs": [
        {
          "output_type": "execute_result",
          "data": {
            "text/html": [
              "<div>\n",
              "<style scoped>\n",
              "    .dataframe tbody tr th:only-of-type {\n",
              "        vertical-align: middle;\n",
              "    }\n",
              "\n",
              "    .dataframe tbody tr th {\n",
              "        vertical-align: top;\n",
              "    }\n",
              "\n",
              "    .dataframe thead th {\n",
              "        text-align: right;\n",
              "    }\n",
              "</style>\n",
              "<table border=\"1\" class=\"dataframe\">\n",
              "  <thead>\n",
              "    <tr style=\"text-align: right;\">\n",
              "      <th>True default status</th>\n",
              "      <th>No</th>\n",
              "      <th>Yes</th>\n",
              "    </tr>\n",
              "    <tr>\n",
              "      <th>Predicted default status</th>\n",
              "      <th></th>\n",
              "      <th></th>\n",
              "    </tr>\n",
              "  </thead>\n",
              "  <tbody>\n",
              "    <tr>\n",
              "      <th>No</th>\n",
              "      <td>9645</td>\n",
              "      <td>254</td>\n",
              "    </tr>\n",
              "    <tr>\n",
              "      <th>Yes</th>\n",
              "      <td>22</td>\n",
              "      <td>79</td>\n",
              "    </tr>\n",
              "  </tbody>\n",
              "</table>\n",
              "</div>"
            ],
            "text/plain": [
              "True default status         No  Yes\n",
              "Predicted default status           \n",
              "No                        9645  254\n",
              "Yes                         22   79"
            ]
          },
          "metadata": {
            "tags": []
          },
          "execution_count": 21
        }
      ]
    },
    {
      "cell_type": "code",
      "metadata": {
        "id": "B7APeoIHN1bX",
        "outputId": "ac67d8e8-3ec5-4914-dc29-c9e41d5a2ee0",
        "colab": {
          "base_uri": "https://localhost:8080/"
        }
      },
      "source": [
        "print(classification_report(y, y_pred, target_names=['No', 'Yes']))"
      ],
      "execution_count": 22,
      "outputs": [
        {
          "output_type": "stream",
          "text": [
            "              precision    recall  f1-score   support\n",
            "\n",
            "          No       0.97      1.00      0.99      9667\n",
            "         Yes       0.78      0.24      0.36       333\n",
            "\n",
            "    accuracy                           0.97     10000\n",
            "   macro avg       0.88      0.62      0.67     10000\n",
            "weighted avg       0.97      0.97      0.97     10000\n",
            "\n"
          ],
          "name": "stdout"
        }
      ]
    },
    {
      "cell_type": "markdown",
      "metadata": {
        "id": "kIplL1ftN1ba"
      },
      "source": [
        "### Table 4.5\n",
        "Instead of using the probability of 50% as decision boundary, we say that a probability of default of 20% is to be classified as 'Yes'."
      ]
    },
    {
      "cell_type": "code",
      "metadata": {
        "id": "git_dZboN1bb",
        "outputId": "91cf8c2b-102e-4141-bd33-1652b1c66df5",
        "colab": {
          "base_uri": "https://localhost:8080/",
          "height": 142
        }
      },
      "source": [
        "decision_prob = 0.2\n",
        "y_prob = lda.fit(X, y).predict_proba(X)\n",
        "\n",
        "df_ = pd.DataFrame({'True default status': y,\n",
        "                    'Predicted default status': y_prob[:,1] > decision_prob})\n",
        "df_.replace(to_replace={0:'No', 1:'Yes', 'True':'Yes', 'False':'No'}, inplace=True)\n",
        "\n",
        "df_.groupby(['Predicted default status','True default status']).size().unstack('True default status')"
      ],
      "execution_count": 24,
      "outputs": [
        {
          "output_type": "execute_result",
          "data": {
            "text/html": [
              "<div>\n",
              "<style scoped>\n",
              "    .dataframe tbody tr th:only-of-type {\n",
              "        vertical-align: middle;\n",
              "    }\n",
              "\n",
              "    .dataframe tbody tr th {\n",
              "        vertical-align: top;\n",
              "    }\n",
              "\n",
              "    .dataframe thead th {\n",
              "        text-align: right;\n",
              "    }\n",
              "</style>\n",
              "<table border=\"1\" class=\"dataframe\">\n",
              "  <thead>\n",
              "    <tr style=\"text-align: right;\">\n",
              "      <th>True default status</th>\n",
              "      <th>No</th>\n",
              "      <th>Yes</th>\n",
              "    </tr>\n",
              "    <tr>\n",
              "      <th>Predicted default status</th>\n",
              "      <th></th>\n",
              "      <th></th>\n",
              "    </tr>\n",
              "  </thead>\n",
              "  <tbody>\n",
              "    <tr>\n",
              "      <th>No</th>\n",
              "      <td>9435</td>\n",
              "      <td>140</td>\n",
              "    </tr>\n",
              "    <tr>\n",
              "      <th>Yes</th>\n",
              "      <td>232</td>\n",
              "      <td>193</td>\n",
              "    </tr>\n",
              "  </tbody>\n",
              "</table>\n",
              "</div>"
            ],
            "text/plain": [
              "True default status         No  Yes\n",
              "Predicted default status           \n",
              "No                        9435  140\n",
              "Yes                        232  193"
            ]
          },
          "metadata": {
            "tags": []
          },
          "execution_count": 24
        }
      ]
    },
    {
      "cell_type": "markdown",
      "metadata": {
        "id": "qaHISLPtN1bd"
      },
      "source": [
        "#  Lab"
      ]
    },
    {
      "cell_type": "markdown",
      "metadata": {
        "id": "x5OrVkTtN1be"
      },
      "source": [
        "### 4.6.3 Linear Discriminant Analysis"
      ]
    },
    {
      "cell_type": "code",
      "metadata": {
        "id": "7L0oUauGN1be"
      },
      "source": [
        "df = pd.read_csv(root_path + 'Smarket.csv', usecols=range(1,10), index_col=0, parse_dates=True)"
      ],
      "execution_count": 25,
      "outputs": []
    },
    {
      "cell_type": "code",
      "metadata": {
        "id": "LbGOcdDnN1bg"
      },
      "source": [
        "X_train = df[:'2004'][['Lag1','Lag2']]\n",
        "y_train = df[:'2004']['Direction']\n",
        "\n",
        "X_test = df['2005':][['Lag1','Lag2']]\n",
        "y_test = df['2005':]['Direction']\n",
        "\n",
        "lda = LinearDiscriminantAnalysis()\n",
        "pred = lda.fit(X_train, y_train).predict(X_test)"
      ],
      "execution_count": 26,
      "outputs": []
    },
    {
      "cell_type": "code",
      "metadata": {
        "id": "YsI5zOnhN1bi",
        "outputId": "d3e2b673-364c-4d25-fa54-36f80c146fbb",
        "colab": {
          "base_uri": "https://localhost:8080/"
        }
      },
      "source": [
        "lda.priors_"
      ],
      "execution_count": 27,
      "outputs": [
        {
          "output_type": "execute_result",
          "data": {
            "text/plain": [
              "array([0.49198397, 0.50801603])"
            ]
          },
          "metadata": {
            "tags": []
          },
          "execution_count": 27
        }
      ]
    },
    {
      "cell_type": "code",
      "metadata": {
        "id": "ODJFkMgAN1bk",
        "outputId": "246f54ea-2874-42f2-a1b5-256381f615a2",
        "colab": {
          "base_uri": "https://localhost:8080/"
        }
      },
      "source": [
        "lda.means_"
      ],
      "execution_count": 28,
      "outputs": [
        {
          "output_type": "execute_result",
          "data": {
            "text/plain": [
              "array([[ 0.04279022,  0.03389409],\n",
              "       [-0.03954635, -0.03132544]])"
            ]
          },
          "metadata": {
            "tags": []
          },
          "execution_count": 28
        }
      ]
    },
    {
      "cell_type": "code",
      "metadata": {
        "id": "2_fqI6cpN1bn",
        "outputId": "be063298-e5fb-4bac-a1c0-2c292e906bf6",
        "colab": {
          "base_uri": "https://localhost:8080/"
        }
      },
      "source": [
        "# These do not seem to correspond to the values from the R output in the book?\n",
        "lda.coef_"
      ],
      "execution_count": 29,
      "outputs": [
        {
          "output_type": "execute_result",
          "data": {
            "text/plain": [
              "array([[-0.05544078, -0.0443452 ]])"
            ]
          },
          "metadata": {
            "tags": []
          },
          "execution_count": 29
        }
      ]
    },
    {
      "cell_type": "code",
      "metadata": {
        "id": "Es1xQ5k7N1bp",
        "outputId": "1356b6e2-eada-4826-9c09-ea72691e03eb"
      },
      "source": [
        "confusion_matrix(y_test, pred).T"
      ],
      "execution_count": null,
      "outputs": [
        {
          "output_type": "execute_result",
          "data": {
            "text/plain": [
              "array([[ 35,  35],\n",
              "       [ 76, 106]])"
            ]
          },
          "metadata": {
            "tags": []
          },
          "execution_count": 23
        }
      ]
    },
    {
      "cell_type": "code",
      "metadata": {
        "id": "9SVw6cfuN1bs",
        "outputId": "5d0acaa5-d307-424e-c402-71c54425388d"
      },
      "source": [
        "print(classification_report(y_test, pred, digits=3))"
      ],
      "execution_count": null,
      "outputs": [
        {
          "output_type": "stream",
          "text": [
            "             precision    recall  f1-score   support\n",
            "\n",
            "       Down      0.500     0.315     0.387       111\n",
            "         Up      0.582     0.752     0.656       141\n",
            "\n",
            "avg / total      0.546     0.560     0.538       252\n",
            "\n"
          ],
          "name": "stdout"
        }
      ]
    },
    {
      "cell_type": "code",
      "metadata": {
        "id": "adb3VkmrN1bu"
      },
      "source": [
        "pred_p = lda.predict_proba(X_test)"
      ],
      "execution_count": null,
      "outputs": []
    },
    {
      "cell_type": "code",
      "metadata": {
        "id": "YcJDPzjWN1bw",
        "outputId": "fd5bed2e-9ea2-4ba7-9c20-5ec86fc78578"
      },
      "source": [
        "np.unique(pred_p[:,1]>0.5, return_counts=True)"
      ],
      "execution_count": null,
      "outputs": [
        {
          "output_type": "execute_result",
          "data": {
            "text/plain": [
              "(array([False,  True], dtype=bool), array([ 70, 182]))"
            ]
          },
          "metadata": {
            "tags": []
          },
          "execution_count": 26
        }
      ]
    },
    {
      "cell_type": "code",
      "metadata": {
        "id": "kW6IaEH-N1bz",
        "outputId": "9114e2a7-d9aa-462a-be24-5ee1aa8e7d2d"
      },
      "source": [
        "np.unique(pred_p[:,1]>0.9, return_counts=True)"
      ],
      "execution_count": null,
      "outputs": [
        {
          "output_type": "execute_result",
          "data": {
            "text/plain": [
              "(array([False], dtype=bool), array([252]))"
            ]
          },
          "metadata": {
            "tags": []
          },
          "execution_count": 27
        }
      ]
    },
    {
      "cell_type": "markdown",
      "metadata": {
        "id": "6WojmOmUN1b1"
      },
      "source": [
        "### 4.6.4 Quadratic Discriminant Analysis"
      ]
    },
    {
      "cell_type": "code",
      "metadata": {
        "id": "UwBoqRPwN1b1"
      },
      "source": [
        "qda = QuadraticDiscriminantAnalysis()\n",
        "pred = qda.fit(X_train, y_train).predict(X_test)"
      ],
      "execution_count": null,
      "outputs": []
    },
    {
      "cell_type": "code",
      "metadata": {
        "id": "NHlpZ2SRN1b7",
        "outputId": "8d1645ed-6f12-44df-a5c8-413f8af8277a"
      },
      "source": [
        "qda.priors_"
      ],
      "execution_count": null,
      "outputs": [
        {
          "output_type": "execute_result",
          "data": {
            "text/plain": [
              "array([ 0.49198397,  0.50801603])"
            ]
          },
          "metadata": {
            "tags": []
          },
          "execution_count": 29
        }
      ]
    },
    {
      "cell_type": "code",
      "metadata": {
        "id": "kXX8etGlN1b9",
        "outputId": "9e2aeacd-3187-4d48-d1d9-11ed36abdf1b"
      },
      "source": [
        "qda.means_"
      ],
      "execution_count": null,
      "outputs": [
        {
          "output_type": "execute_result",
          "data": {
            "text/plain": [
              "array([[ 0.04279022,  0.03389409],\n",
              "       [-0.03954635, -0.03132544]])"
            ]
          },
          "metadata": {
            "tags": []
          },
          "execution_count": 30
        }
      ]
    },
    {
      "cell_type": "code",
      "metadata": {
        "id": "qD2NX_M2N1cA",
        "outputId": "1714f207-825f-4264-e1eb-f9af80848ff0"
      },
      "source": [
        "confusion_matrix(y_test, pred).T"
      ],
      "execution_count": null,
      "outputs": [
        {
          "output_type": "execute_result",
          "data": {
            "text/plain": [
              "array([[ 30,  20],\n",
              "       [ 81, 121]])"
            ]
          },
          "metadata": {
            "tags": []
          },
          "execution_count": 31
        }
      ]
    },
    {
      "cell_type": "code",
      "metadata": {
        "id": "aUso8ghON1cC",
        "outputId": "b1552dd3-e0fe-453c-a625-6acb1794205d"
      },
      "source": [
        "print(classification_report(y_test, pred, digits=3))"
      ],
      "execution_count": null,
      "outputs": [
        {
          "output_type": "stream",
          "text": [
            "             precision    recall  f1-score   support\n",
            "\n",
            "       Down      0.600     0.270     0.373       111\n",
            "         Up      0.599     0.858     0.706       141\n",
            "\n",
            "avg / total      0.599     0.599     0.559       252\n",
            "\n"
          ],
          "name": "stdout"
        }
      ]
    },
    {
      "cell_type": "markdown",
      "metadata": {
        "id": "1H_hVPCxN1cE"
      },
      "source": [
        "### 4.6.5 K-Nearest Neighbors"
      ]
    },
    {
      "cell_type": "code",
      "metadata": {
        "id": "Vwm7PbkSN1cF",
        "outputId": "3494e33c-612a-4289-bade-fff03f112477"
      },
      "source": [
        "knn = neighbors.KNeighborsClassifier(n_neighbors=1)\n",
        "pred = knn.fit(X_train, y_train).predict(X_test)\n",
        "print(confusion_matrix(y_test, pred).T)\n",
        "print(classification_report(y_test, pred, digits=3))"
      ],
      "execution_count": null,
      "outputs": [
        {
          "output_type": "stream",
          "text": [
            "[[43 58]\n",
            " [68 83]]\n",
            "             precision    recall  f1-score   support\n",
            "\n",
            "       Down      0.426     0.387     0.406       111\n",
            "         Up      0.550     0.589     0.568       141\n",
            "\n",
            "avg / total      0.495     0.500     0.497       252\n",
            "\n"
          ],
          "name": "stdout"
        }
      ]
    },
    {
      "cell_type": "code",
      "metadata": {
        "id": "VnhqaOKpN1cH",
        "outputId": "f1a2e68e-18d6-45f9-dfc2-d2b15a502167"
      },
      "source": [
        "knn = neighbors.KNeighborsClassifier(n_neighbors=3)\n",
        "pred = knn.fit(X_train, y_train).predict(X_test)\n",
        "print(confusion_matrix(y_test, pred).T)\n",
        "print(classification_report(y_test, pred, digits=3))"
      ],
      "execution_count": null,
      "outputs": [
        {
          "output_type": "stream",
          "text": [
            "[[48 55]\n",
            " [63 86]]\n",
            "             precision    recall  f1-score   support\n",
            "\n",
            "       Down      0.466     0.432     0.449       111\n",
            "         Up      0.577     0.610     0.593       141\n",
            "\n",
            "avg / total      0.528     0.532     0.529       252\n",
            "\n"
          ],
          "name": "stdout"
        }
      ]
    },
    {
      "cell_type": "markdown",
      "metadata": {
        "id": "C3YxlW7xN1cJ"
      },
      "source": [
        "### 4.6.6 An Application to Caravan Insurance Data\n",
        "\n",
        "#### K-Nearest Neighbors"
      ]
    },
    {
      "cell_type": "code",
      "metadata": {
        "id": "LGlJJWrfN1cJ"
      },
      "source": [
        "# In R, I exported the dataset from package 'ISLR' to a csv file\n",
        "df = pd.read_csv('Data/Caravan.csv')\n",
        "y = df.Purchase\n",
        "X = df.drop('Purchase', axis=1).astype('float64')\n",
        "X_scaled = preprocessing.scale(X)\n",
        "\n",
        "X_train = X_scaled[1000:,:]\n",
        "y_train = y[1000:]\n",
        "X_test = X_scaled[:1000,:]\n",
        "y_test = y[:1000]\n",
        "\n",
        "def KNN(n_neighbors=1, weights='uniform'):\n",
        "    clf = neighbors.KNeighborsClassifier(n_neighbors, weights)\n",
        "    clf.fit(X_train, y_train)\n",
        "    pred = clf.predict(X_test)\n",
        "    score = clf.score(X_test, y_test)\n",
        "    return(pred, score, clf.classes_)\n",
        "\n",
        "def plot_confusion_matrix(cm, classes, n_neighbors, title='Confusion matrix (Normalized)',\n",
        "                          cmap=plt.cm.Blues):\n",
        "    plt.imshow(cm, interpolation='nearest', cmap=plt.cm.Blues)\n",
        "    plt.title('Normalized confusion matrix: KNN-{}'.format(n_neighbors))\n",
        "    plt.colorbar()\n",
        "    plt.xticks(np.arange(2), classes)\n",
        "    plt.yticks(np.arange(2), classes)\n",
        "    plt.tight_layout()\n",
        "    plt.xlabel('True label',rotation='horizontal', ha='right')\n",
        "    plt.ylabel('Predicted label')\n",
        "    plt.show()"
      ],
      "execution_count": null,
      "outputs": []
    },
    {
      "cell_type": "code",
      "metadata": {
        "id": "WDRVS4VzN1cM",
        "outputId": "68cfb4c4-5a34-4715-b166-7cfacb0a7888"
      },
      "source": [
        "for i in [1,3,5]:\n",
        "    pred, score, classes = KNN(i)\n",
        "    cm = confusion_matrix(y_test, pred)\n",
        "    cm_normalized = cm.astype('float') / cm.sum(axis=1)[:, np.newaxis]\n",
        "    plot_confusion_matrix(cm_normalized.T, classes, n_neighbors=i)\n",
        "    cm_df = pd.DataFrame(cm.T, index=classes, columns=classes)\n",
        "    cm_df.index.name = 'Predicted'\n",
        "    cm_df.columns.name = 'True'\n",
        "    print(cm_df)    \n",
        "    print(pd.DataFrame(precision_score(y_test, pred, average=None),\n",
        "                       index=classes, columns=['Precision']))        "
      ],
      "execution_count": null,
      "outputs": [
        {
          "output_type": "display_data",
          "data": {
            "image/png": "[encoded data removed]",
            "text/plain": [
              "<matplotlib.figure.Figure at 0x10f41c668>"
            ]
          },
          "metadata": {
            "tags": []
          }
        },
        {
          "output_type": "stream",
          "text": [
            "True        No  Yes\n",
            "Predicted          \n",
            "No         882   48\n",
            "Yes         59   11\n",
            "     Precision\n",
            "No    0.948387\n",
            "Yes   0.157143\n"
          ],
          "name": "stdout"
        },
        {
          "output_type": "display_data",
          "data": {
            "image/png": "[encoded data removed]",
            "text/plain": [
              "<matplotlib.figure.Figure at 0x1103dc5f8>"
            ]
          },
          "metadata": {
            "tags": []
          }
        },
        {
          "output_type": "stream",
          "text": [
            "True        No  Yes\n",
            "Predicted          \n",
            "No         921   53\n",
            "Yes         20    6\n",
            "     Precision\n",
            "No    0.945585\n",
            "Yes   0.230769\n"
          ],
          "name": "stdout"
        },
        {
          "output_type": "display_data",
          "data": {
            "image/png": "[encoded data removed]",
            "text/plain": [
              "<matplotlib.figure.Figure at 0x1c1b130978>"
            ]
          },
          "metadata": {
            "tags": []
          }
        },
        {
          "output_type": "stream",
          "text": [
            "True        No  Yes\n",
            "Predicted          \n",
            "No         934   55\n",
            "Yes          7    4\n",
            "     Precision\n",
            "No    0.944388\n",
            "Yes   0.363636\n"
          ],
          "name": "stdout"
        }
      ]
    },
    {
      "cell_type": "markdown",
      "metadata": {
        "id": "npOw8XbLN1cO"
      },
      "source": [
        "####  Logistic Regression"
      ]
    },
    {
      "cell_type": "code",
      "metadata": {
        "id": "6djX9Qo2N1cO",
        "outputId": "8fe93333-26dd-4383-c520-5bbaf9bcbe80"
      },
      "source": [
        "regr = skl_lm.LogisticRegression()\n",
        "regr.fit(X_train, y_train)"
      ],
      "execution_count": null,
      "outputs": [
        {
          "output_type": "execute_result",
          "data": {
            "text/plain": [
              "LogisticRegression(C=1.0, class_weight=None, dual=False, fit_intercept=True,\n",
              "          intercept_scaling=1, max_iter=100, multi_class='ovr', n_jobs=1,\n",
              "          penalty='l2', random_state=None, solver='liblinear', tol=0.0001,\n",
              "          verbose=0, warm_start=False)"
            ]
          },
          "metadata": {
            "tags": []
          },
          "execution_count": 37
        }
      ]
    },
    {
      "cell_type": "code",
      "metadata": {
        "id": "q8FWsG0AN1cQ",
        "outputId": "29f44d9e-daad-454b-c79d-7d431409e2d7"
      },
      "source": [
        "pred = regr.predict(X_test)\n",
        "cm_df = pd.DataFrame(confusion_matrix(y_test, pred).T, index=regr.classes_,\n",
        "                     columns=regr.classes_)\n",
        "cm_df.index.name = 'Predicted'\n",
        "cm_df.columns.name = 'True'\n",
        "print(cm_df)\n",
        "print(classification_report(y_test, pred))"
      ],
      "execution_count": null,
      "outputs": [
        {
          "output_type": "stream",
          "text": [
            "True        No  Yes\n",
            "Predicted          \n",
            "No         935   59\n",
            "Yes          6    0\n",
            "             precision    recall  f1-score   support\n",
            "\n",
            "         No       0.94      0.99      0.97       941\n",
            "        Yes       0.00      0.00      0.00        59\n",
            "\n",
            "avg / total       0.89      0.94      0.91      1000\n",
            "\n"
          ],
          "name": "stdout"
        }
      ]
    },
    {
      "cell_type": "code",
      "metadata": {
        "id": "dr839LiEN1cS",
        "outputId": "06bae204-c1db-4ca5-d83f-b63bf0929ceb"
      },
      "source": [
        "pred_p = regr.predict_proba(X_test)\n",
        "cm_df = pd.DataFrame({'True': y_test, 'Pred': pred_p[:,1] > .25})\n",
        "cm_df.Pred.replace(to_replace={True:'Yes', False:'No'}, inplace=True)\n",
        "print(cm_df.groupby(['True', 'Pred']).size().unstack('True').T)\n",
        "print(classification_report(y_test, cm_df.Pred))"
      ],
      "execution_count": null,
      "outputs": [
        {
          "output_type": "stream",
          "text": [
            "Pred   No  Yes\n",
            "True          \n",
            "No    919   22\n",
            "Yes    48   11\n",
            "             precision    recall  f1-score   support\n",
            "\n",
            "         No       0.95      0.98      0.96       941\n",
            "        Yes       0.33      0.19      0.24        59\n",
            "\n",
            "avg / total       0.91      0.93      0.92      1000\n",
            "\n"
          ],
          "name": "stdout"
        }
      ]
    }
  ]
}